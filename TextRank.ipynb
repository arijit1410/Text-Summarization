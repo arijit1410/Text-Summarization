{
 "cells": [
  {
   "cell_type": "code",
   "execution_count": 1,
   "metadata": {},
   "outputs": [
    {
     "name": "stdout",
     "output_type": "stream",
     "text": [
      "[nltk_data] Downloading package punkt to\n",
      "[nltk_data]     /home/quicksilver/nltk_data...\n",
      "[nltk_data]   Package punkt is already up-to-date!\n"
     ]
    }
   ],
   "source": [
    "import numpy as np\n",
    "import pandas as pd\n",
    "import nltk\n",
    "nltk.download('punkt') # one time execution\n",
    "import re"
   ]
  },
  {
   "cell_type": "code",
   "execution_count": 2,
   "metadata": {},
   "outputs": [],
   "source": [
    "df = pd.read_csv(\"tennis_articles_v4.csv\")"
   ]
  },
  {
   "cell_type": "code",
   "execution_count": 3,
   "metadata": {},
   "outputs": [
    {
     "data": {
      "text/html": [
       "<div>\n",
       "<style scoped>\n",
       "    .dataframe tbody tr th:only-of-type {\n",
       "        vertical-align: middle;\n",
       "    }\n",
       "\n",
       "    .dataframe tbody tr th {\n",
       "        vertical-align: top;\n",
       "    }\n",
       "\n",
       "    .dataframe thead th {\n",
       "        text-align: right;\n",
       "    }\n",
       "</style>\n",
       "<table border=\"1\" class=\"dataframe\">\n",
       "  <thead>\n",
       "    <tr style=\"text-align: right;\">\n",
       "      <th></th>\n",
       "      <th>article_id</th>\n",
       "      <th>article_text</th>\n",
       "      <th>source</th>\n",
       "    </tr>\n",
       "  </thead>\n",
       "  <tbody>\n",
       "    <tr>\n",
       "      <th>0</th>\n",
       "      <td>0</td>\n",
       "      <td>The OnePlus 7 is basically the OnePlus 6T with...</td>\n",
       "      <td>NaN</td>\n",
       "    </tr>\n",
       "  </tbody>\n",
       "</table>\n",
       "</div>"
      ],
      "text/plain": [
       "   article_id                                       article_text  source\n",
       "0           0  The OnePlus 7 is basically the OnePlus 6T with...     NaN"
      ]
     },
     "execution_count": 3,
     "metadata": {},
     "output_type": "execute_result"
    }
   ],
   "source": [
    "df.head()"
   ]
  },
  {
   "cell_type": "code",
   "execution_count": 4,
   "metadata": {},
   "outputs": [
    {
     "data": {
      "text/plain": [
       "'The OnePlus 7 is basically the OnePlus 6T with the guts of the OnePlus 7 Pro, which sounds like a bad thing, but for 500 it is arguably the best bang for your buck going. There was nothing wrong with the design of the 6T, so there isn’t with the 7. The 6.41in AMOLED display is bright and crisp, filling most of the front of the phone with a small chin at the bottom and a teardrop notch in the top for the selfie camera. It’s still one of the best looking designs available, but the notch is more intrusive than the holepunch design of the Honor 20 or similar, and not quite on the same level as the OnePlus 7 Pro.The phone is only available in mirror grey in the UK, which is super-shiny with a slight purple tint to it. It looks sleek but is a bit of a fingerprint magnet. A mirror blue version is available in India, while a red version is available in India and China.The rear glass isn’t as slippery as other phones, which combined with its curved back and relatively narrow 74.8mm width makes the OnePlus 7 one of the easiest of the large metal-and-glass sandwiches to hold. For comparison, the OnePlus 7 is 24g lighter, 1.1mm narrower and 4.9mm shorter than the larger OnePlus 7 Pro, but 7g heavier than the similarly sized Samsung Galaxy S10. The rest of the dimensions compare favourably to the competition. The OnePlus 7 has the same potent combination of Qualcomm’s range-topping Snapdragon 855 processor, 6GB or 8GB of RAM and 128GB or 256GB of UFS3.0 storage, which is significantly faster than the older UFS2.1 storage commonly used by others. As such, the phone flies. Day-to-day tasks are super-fast and slick, and gaming is great. It doesn’t feel quite as fast as the OnePlus 7 Pro because it lacks the 90Hz screen, but it’s really not that far off. Battery life is also good, lasting 34 hours between charges with medium to heavy usage: 200 or so emails, messages and push notifications, a couple of hours of browsing in Chrome, five hours of Spotify via Bluetooth headphones, 90 minutes of Futurama from Google Play, a 20-minute phone call and about 15 photos. That meant the OnePlus 7 would make it from 7am on day one until 4pm on day two, or longer with lighter use or one of the power-saving modes active.There’s no wireless charging, but OnePlus’s included fast charging tech will hit 80% in 50 minutes and a full battery in 90 minutes. Oxygen OS 9.5 is the company’s latest customised version of Android 9 Pie and is nearly identical on both the OnePlus 7 and OnePlus 7 Pro, with only a few small changes since version 9 on the OnePlus 6T. OxygenOS is a refined version of standard Android, with a focus on speed and fluidity, and a few more customisation options than you’d find on a Google Pixel or similar. As such, it is one of the best versions of Android you can get, and you can look forward to three years of software updates from release, including bi-monthly security updates. OnePlus gives you the choice of choice standard three-button Android navigation keys, Google’s “pill” navigation button or gestures, which are smooth – swipe up from the centre to go home, up and hold for recently-used apps, or up and over to the right for the previously-used app. The back gesture, up from the left or right bottom edge, isn’t as easy to use as Huawei’s swipe in from the left or right side of the screen, which is also being adopted by Google for Android Q. Oxygen OS also comes with Zen Mode (a time out for your phone), a gaming mode and RAM boost, which learns the apps you use frequently and pre-caches them into RAM. There’s also no real one-handed mode, though, which others such as Huawei include, which would have been helpful. The fingerprint scanner is in the same position – under the display in the lower fifth of the screen – as the OnePlus 6T but has been dramatically sped up for fast, accurate unlocks that rival traditional capacitive fingerprint scanners. It matches the one on the OnePlus 7 Pro as the best in the business at the moment – everything else feels slow. The OnePlus 7 has the same main camera as the 7 Pro, but lacks the ultra-wide angle and telephoto cameras, instead having a 5MP depth assist camera for portrait mode shots. The main camera is just as good as the 7 Pro, capturing some really detailed and well-exposed shots. Both smartphones have seen a barrage of recent software updates that have improved the cameras – something that’s very good to see. It won’t match the Google Pixel 3 or 3A for image quality, but most will be very pleased. Low light performance and the dedicated Nightscape mode are good but not quite class-leading. Zoom is relegated to up to 10x digital, which can’t hold a flame to optical zoom, but is fine in a pinch. Video capture is pretty good at up to 4K60Hz, as is the selfie camera, which captures more detail than most might want. Three levels of beauty mode are available for those that want a little smoothing out of lifelines.'"
      ]
     },
     "execution_count": 4,
     "metadata": {},
     "output_type": "execute_result"
    }
   ],
   "source": [
    "df['article_text'][0]"
   ]
  },
  {
   "cell_type": "code",
   "execution_count": 5,
   "metadata": {},
   "outputs": [
    {
     "data": {
      "text/plain": [
       "\"BASEL, Switzerland (AP), Roger Federer advanced to the 14th Swiss Indoors final of his career by beating seventh-seeded Daniil Medvedev 6-1, 6-4 on Saturday. Seeking a ninth title at his hometown event, and a 99th overall, Federer will play 93th-ranked Marius Copil on Sunday. Federer dominated the 20th-ranked Medvedev and had his first match-point chance to break serve again at 5-1. He then dropped his serve to love, and let another match point slip in Medvedev's next service game by netting a backhand. He clinched on his fourth chance when Medvedev netted from the baseline. Copil upset expectations of a Federer final against Alexander Zverev in a 6-3, 6-7 (6), 6-4 win over the fifth-ranked German in the earlier semifinal. The Romanian aims for a first title after arriving at Basel without a career win over a top-10 opponent. Copil has two after also beating No. 6 Marin Cilic in the second round. Copil fired 26 aces past Zverev and never dropped serve, clinching after 2 1/2 hours with a forehand volley winner to break Zverev for the second time in the semifinal. He came through two rounds of qualifying last weekend to reach the Basel main draw, including beating Zverev's older brother, Mischa. Federer had an easier time than in his only previous match against Medvedev, a three-setter at Shanghai two weeks ago.\""
      ]
     },
     "execution_count": 5,
     "metadata": {},
     "output_type": "execute_result"
    }
   ],
   "source": [
    "df['article_text'][1]\n"
   ]
  },
  {
   "cell_type": "code",
   "execution_count": 5,
   "metadata": {},
   "outputs": [],
   "source": [
    "from nltk.tokenize import sent_tokenize\n",
    "sentences = []\n",
    "for s in df['article_text']:\n",
    "  sentences.append(sent_tokenize(s))\n",
    "\n",
    "sentences = [y for x in sentences for y in x] # flatten list"
   ]
  },
  {
   "cell_type": "code",
   "execution_count": 7,
   "metadata": {},
   "outputs": [
    {
     "name": "stdout",
     "output_type": "stream",
     "text": [
      "--2019-09-10 22:14:49--  http://nlp.stanford.edu/data/glove.6B.zip\n",
      "Resolving nlp.stanford.edu (nlp.stanford.edu)... 171.64.67.140\n",
      "Connecting to nlp.stanford.edu (nlp.stanford.edu)|171.64.67.140|:80... connected.\n",
      "HTTP request sent, awaiting response... 302 Found\n",
      "Location: https://nlp.stanford.edu/data/glove.6B.zip [following]\n",
      "--2019-09-10 22:14:50--  https://nlp.stanford.edu/data/glove.6B.zip\n",
      "Connecting to nlp.stanford.edu (nlp.stanford.edu)|171.64.67.140|:443... connected.\n",
      "HTTP request sent, awaiting response... 301 Moved Permanently\n",
      "Location: http://downloads.cs.stanford.edu/nlp/data/glove.6B.zip [following]\n",
      "--2019-09-10 22:14:51--  http://downloads.cs.stanford.edu/nlp/data/glove.6B.zip\n",
      "Resolving downloads.cs.stanford.edu (downloads.cs.stanford.edu)... 171.64.64.22\n",
      "Connecting to downloads.cs.stanford.edu (downloads.cs.stanford.edu)|171.64.64.22|:80... connected.\n",
      "HTTP request sent, awaiting response... 200 OK\n",
      "Length: 862182613 (822M) [application/zip]\n",
      "Saving to: ‘glove.6B.zip’\n",
      "\n",
      "glove.6B.zip         72%[=============>      ] 595.54M  --.-KB/s    in 2h 7m   \n",
      "\n",
      "2019-09-11 00:22:03 (79.9 KB/s) - Read error at byte 624465564/862182613 (Connection timed out). Retrying.\n",
      "\n",
      "--2019-09-11 00:22:04--  (try: 2)  http://downloads.cs.stanford.edu/nlp/data/glove.6B.zip\n",
      "Connecting to downloads.cs.stanford.edu (downloads.cs.stanford.edu)|171.64.64.22|:80... connected.\n",
      "HTTP request sent, awaiting response... 206 Partial Content\n",
      "Length: 862182613 (822M), 237717049 (227M) remaining [application/zip]\n",
      "Saving to: ‘glove.6B.zip’\n",
      "\n",
      "glove.6B.zip        100%[++++++++++++++=====>] 822.24M  62.0KB/s    in 20m 58s \n",
      "\n",
      "2019-09-11 00:43:02 (185 KB/s) - ‘glove.6B.zip’ saved [862182613/862182613]\n",
      "\n",
      "Archive:  glove.6B.zip\n",
      "  inflating: glove.6B.50d.txt        \n",
      "  inflating: glove.6B.100d.txt       \n",
      "  inflating: glove.6B.200d.txt       \n",
      "  inflating: glove.6B.300d.txt       \n"
     ]
    }
   ],
   "source": [
    "!wget http://nlp.stanford.edu/data/glove.6B.zip\n",
    "!unzip glove*.zip"
   ]
  },
  {
   "cell_type": "code",
   "execution_count": 6,
   "metadata": {},
   "outputs": [],
   "source": [
    "# Extract word vectors\n",
    "word_embeddings = {}\n",
    "f = open('glove.6B.100d.txt', encoding='utf-8')\n",
    "for line in f:\n",
    "    values = line.split()\n",
    "    word = values[0]\n",
    "    coefs = np.asarray(values[1:], dtype='float32')\n",
    "    word_embeddings[word] = coefs\n",
    "f.close()"
   ]
  },
  {
   "cell_type": "code",
   "execution_count": 7,
   "metadata": {},
   "outputs": [
    {
     "data": {
      "text/plain": [
       "400000"
      ]
     },
     "execution_count": 7,
     "metadata": {},
     "output_type": "execute_result"
    }
   ],
   "source": [
    "len(word_embeddings)"
   ]
  },
  {
   "cell_type": "code",
   "execution_count": 8,
   "metadata": {},
   "outputs": [],
   "source": [
    "# remove punctuations, numbers and special characters\n",
    "clean_sentences = pd.Series(sentences).str.replace(\"[^a-zA-Z]\", \" \")\n",
    "\n",
    "# make alphabets lowercase\n",
    "clean_sentences = [s.lower() for s in clean_sentences]"
   ]
  },
  {
   "cell_type": "code",
   "execution_count": 9,
   "metadata": {},
   "outputs": [
    {
     "name": "stdout",
     "output_type": "stream",
     "text": [
      "[nltk_data] Downloading package stopwords to\n",
      "[nltk_data]     /home/quicksilver/nltk_data...\n",
      "[nltk_data]   Package stopwords is already up-to-date!\n"
     ]
    },
    {
     "data": {
      "text/plain": [
       "True"
      ]
     },
     "execution_count": 9,
     "metadata": {},
     "output_type": "execute_result"
    }
   ],
   "source": [
    "nltk.download('stopwords')"
   ]
  },
  {
   "cell_type": "code",
   "execution_count": 10,
   "metadata": {},
   "outputs": [],
   "source": [
    "from nltk.corpus import stopwords\n",
    "stop_words = stopwords.words('english')"
   ]
  },
  {
   "cell_type": "code",
   "execution_count": 11,
   "metadata": {},
   "outputs": [],
   "source": [
    "# function to remove stopwords\n",
    "def remove_stopwords(sen):\n",
    "    sen_new = \" \".join([i for i in sen if i not in stop_words])\n",
    "    return sen_new"
   ]
  },
  {
   "cell_type": "code",
   "execution_count": 12,
   "metadata": {},
   "outputs": [],
   "source": [
    "# remove stopwords from the sentences\n",
    "clean_sentences = [remove_stopwords(r.split()) for r in clean_sentences]"
   ]
  },
  {
   "cell_type": "code",
   "execution_count": 13,
   "metadata": {},
   "outputs": [],
   "source": [
    "# Extract word vectors\n",
    "word_embeddings = {}\n",
    "f = open('glove.6B.100d.txt', encoding='utf-8')\n",
    "for line in f:\n",
    "    values = line.split()\n",
    "    word = values[0]\n",
    "    coefs = np.asarray(values[1:], dtype='float32')\n",
    "    word_embeddings[word] = coefs\n",
    "f.close()"
   ]
  },
  {
   "cell_type": "code",
   "execution_count": 14,
   "metadata": {},
   "outputs": [],
   "source": [
    "sentence_vectors = []\n",
    "for i in clean_sentences:\n",
    "  if len(i) != 0:\n",
    "    v = sum([word_embeddings.get(w, np.zeros((100,))) for w in i.split()])/(len(i.split())+0.001)\n",
    "  else:\n",
    "    v = np.zeros((100,))\n",
    "  sentence_vectors.append(v)"
   ]
  },
  {
   "cell_type": "code",
   "execution_count": 15,
   "metadata": {},
   "outputs": [],
   "source": [
    "# similarity matrix\n",
    "sim_mat = np.zeros([len(sentences), len(sentences)])"
   ]
  },
  {
   "cell_type": "code",
   "execution_count": 16,
   "metadata": {},
   "outputs": [],
   "source": [
    "from sklearn.metrics.pairwise import cosine_similarity"
   ]
  },
  {
   "cell_type": "code",
   "execution_count": 17,
   "metadata": {},
   "outputs": [],
   "source": [
    "for i in range(len(sentences)):\n",
    "  for j in range(len(sentences)):\n",
    "    if i != j:\n",
    "      sim_mat[i][j] = cosine_similarity(sentence_vectors[i].reshape(1,100), sentence_vectors[j].reshape(1,100))[0,0]"
   ]
  },
  {
   "cell_type": "code",
   "execution_count": 18,
   "metadata": {},
   "outputs": [],
   "source": [
    "import networkx as nx\n",
    "\n",
    "nx_graph = nx.from_numpy_array(sim_mat)\n",
    "scores = nx.pagerank(nx_graph)"
   ]
  },
  {
   "cell_type": "code",
   "execution_count": 19,
   "metadata": {},
   "outputs": [],
   "source": [
    "ranked_sentences = sorted(((scores[i],s) for i,s in enumerate(sentences)), reverse=True)"
   ]
  },
  {
   "cell_type": "code",
   "execution_count": 22,
   "metadata": {
    "scrolled": true
   },
   "outputs": [
    {
     "name": "stdout",
     "output_type": "stream",
     "text": [
      "It’s still one of the best looking designs available, but the notch is more intrusive than the holepunch design of the Honor 20 or similar, and not quite on the same level as the OnePlus 7 Pro.The phone is only available in mirror grey in the UK, which is super-shiny with a slight purple tint to it.\n",
      "That meant the OnePlus 7 would make it from 7am on day one until 4pm on day two, or longer with lighter use or one of the power-saving modes active.There’s no wireless charging, but OnePlus’s included fast charging tech will hit 80% in 50 minutes and a full battery in 90 minutes.\n",
      "OnePlus gives you the choice of choice standard three-button Android navigation keys, Google’s “pill” navigation button or gestures, which are smooth – swipe up from the centre to go home, up and hold for recently-used apps, or up and over to the right for the previously-used app.\n",
      "Both smartphones have seen a barrage of recent software updates that have improved the cameras – something that’s very good to see.\n",
      "The main camera is just as good as the 7 Pro, capturing some really detailed and well-exposed shots.\n",
      "A mirror blue version is available in India, while a red version is available in India and China.The rear glass isn’t as slippery as other phones, which combined with its curved back and relatively narrow 74.8mm width makes the OnePlus 7 one of the easiest of the large metal-and-glass sandwiches to hold.\n",
      "Video capture is pretty good at up to 4K60Hz, as is the selfie camera, which captures more detail than most might want.\n"
     ]
    }
   ],
   "source": [
    "# Extract top 10 sentences as the summary\n",
    "for i in range(7):\n",
    "  print(ranked_sentences[i][1])"
   ]
  },
  {
   "cell_type": "markdown",
   "metadata": {},
   "source": []
  }
 ],
 "metadata": {
  "kernelspec": {
   "display_name": "Python 3",
   "language": "python",
   "name": "python3"
  },
  "language_info": {
   "codemirror_mode": {
    "name": "ipython",
    "version": 3
   },
   "file_extension": ".py",
   "mimetype": "text/x-python",
   "name": "python",
   "nbconvert_exporter": "python",
   "pygments_lexer": "ipython3",
   "version": "3.5.2"
  }
 },
 "nbformat": 4,
 "nbformat_minor": 2
}
